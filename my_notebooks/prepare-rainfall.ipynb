{
 "cells": [
  {
   "cell_type": "code",
   "execution_count": null,
   "metadata": {},
   "outputs": [],
   "source": [
    "import pandas as pd\n",
    "from pathlib import Path"
   ]
  },
  {
   "cell_type": "markdown",
   "metadata": {},
   "source": [
    "# Get the rainfall data\n",
    "\n",
    "Read in the ProjectSite_WaterLevels.xlsx file.  \n",
    "\n",
    "We want the daily precipitation data on tabs:\n",
    "-  \"DR\""
   ]
  },
  {
   "cell_type": "code",
   "execution_count": null,
   "metadata": {},
   "outputs": [],
   "source": [
    "# Get current directory.\n",
    "notebook_directory = Path.cwd()\n",
    "\n",
    "# Define relative paths for in/ouputs.\n",
    "input_path = notebook_directory.parent / \"my_data_source\"\n",
    "output_path = notebook_directory.parent / \"my_data_intermediate\"\n",
    "\n",
    "# Read file into dataframe.\n",
    "file = input_path / ('ProjectSite_WaterLevels.xlsx')"
   ]
  },
  {
   "cell_type": "code",
   "execution_count": null,
   "metadata": {},
   "outputs": [],
   "source": [
    "# Read file into dataframe.\n",
    "daily_rain = pd.read_excel(file, sheet_name=\"DR\", header=1)"
   ]
  },
  {
   "cell_type": "code",
   "execution_count": null,
   "metadata": {},
   "outputs": [],
   "source": [
    "# Preview each sheet (just cycle through the names).\n",
    "daily_rain.head()"
   ]
  },
  {
   "cell_type": "markdown",
   "metadata": {},
   "source": [
    "Get Name, DATE, and PRCP columns from the DR sheet."
   ]
  },
  {
   "cell_type": "code",
   "execution_count": null,
   "metadata": {},
   "outputs": [],
   "source": [
    "daily_rain = daily_rain.drop(columns=[\"STATION\"])\n",
    "daily_rain.head()"
   ]
  },
  {
   "cell_type": "code",
   "execution_count": null,
   "metadata": {},
   "outputs": [],
   "source": [
    "# Rename the column headers.\n",
    "daily_rain.columns = [\"Weather Station\", \"Date\", \"Rain (in)\"]\n",
    "daily_rain.head()"
   ]
  },
  {
   "cell_type": "code",
   "execution_count": null,
   "metadata": {},
   "outputs": [],
   "source": [
    "# Convert DateTime to datetime type\n",
    "daily_rain['Date'] = pd.to_datetime(daily_rain['Date'])\n",
    "daily_rain.head()"
   ]
  },
  {
   "cell_type": "markdown",
   "metadata": {},
   "source": [
    "Export data to intermediate file"
   ]
  },
  {
   "cell_type": "code",
   "execution_count": null,
   "metadata": {},
   "outputs": [],
   "source": [
    "# Export rainfall dataframe.\n",
    "export_file = output_path / 'rainfall.csv'\n",
    "daily_rain.to_csv(export_file)"
   ]
  }
 ],
 "metadata": {
  "kernelspec": {
   "display_name": "TenTrailsWaterLevels-i7Q0mKvk",
   "language": "python",
   "name": "python3"
  },
  "language_info": {
   "codemirror_mode": {
    "name": "ipython",
    "version": 3
   },
   "file_extension": ".py",
   "mimetype": "text/x-python",
   "name": "python",
   "nbconvert_exporter": "python",
   "pygments_lexer": "ipython3",
   "version": "3.11.5"
  }
 },
 "nbformat": 4,
 "nbformat_minor": 2
}
