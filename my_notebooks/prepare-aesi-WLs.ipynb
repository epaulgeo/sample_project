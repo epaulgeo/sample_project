{
 "cells": [
  {
   "cell_type": "markdown",
   "metadata": {},
   "source": [
    "# Import Libraries and Define Functions"
   ]
  },
  {
   "cell_type": "code",
   "execution_count": null,
   "metadata": {},
   "outputs": [],
   "source": [
    "import numpy as np\n",
    "import pandas as pd\n",
    "import plotly.graph_objects as go\n",
    "from pathlib import Path"
   ]
  },
  {
   "cell_type": "code",
   "execution_count": null,
   "metadata": {},
   "outputs": [],
   "source": [
    "# Get the my_functions script from the adjacent directory.\n",
    "import sys\n",
    "sys.path.append('../my_source_code')\n",
    "import my_functions as mf"
   ]
  },
  {
   "cell_type": "markdown",
   "metadata": {},
   "source": [
    "# Get the Project Site Water Levels data\n",
    "\n",
    "Read in the ProjectSite_WaterLevels.xlsx file.  \n",
    "\n",
    "We want the hourly data on tabs:\n",
    "- \"Hand Data\"\n",
    "- \"Logger Data\""
   ]
  },
  {
   "cell_type": "code",
   "execution_count": null,
   "metadata": {},
   "outputs": [],
   "source": [
    "# Get current directory.\n",
    "notebook_directory = Path.cwd()\n",
    "\n",
    "# Define relative paths for in/ouputs.\n",
    "input_path = notebook_directory.parent / \"my_data_source\"\n",
    "output_path = notebook_directory.parent / \"my_data_intermediate\"\n",
    "\n",
    "# Join script directory and relative paths for input file.\n",
    "file = input_path / (\"ProjectSite_WaterLevels.xlsx\")"
   ]
  },
  {
   "cell_type": "code",
   "execution_count": null,
   "metadata": {},
   "outputs": [],
   "source": [
    "# Read file into dataframe.\n",
    "xlsx_file = pd.read_excel(file, sheet_name=None)"
   ]
  },
  {
   "cell_type": "code",
   "execution_count": null,
   "metadata": {},
   "outputs": [],
   "source": [
    "# Get sheets of interest.\n",
    "sht_hand = xlsx_file['Hand Python']\n",
    "sht_logger = xlsx_file['Logger Python']"
   ]
  },
  {
   "cell_type": "code",
   "execution_count": null,
   "metadata": {},
   "outputs": [],
   "source": [
    "# Preview each sheets (cycle through by changing #)\n",
    "#sht_hand.head(10)\n",
    "sht_logger.head(10)"
   ]
  },
  {
   "cell_type": "markdown",
   "metadata": {},
   "source": [
    "## Examine the hand/manual data"
   ]
  },
  {
   "cell_type": "code",
   "execution_count": null,
   "metadata": {},
   "outputs": [],
   "source": [
    "# Get some qualitative and quantitative data.\n",
    "mf.inspect(sht_hand)"
   ]
  },
  {
   "cell_type": "code",
   "execution_count": null,
   "metadata": {},
   "outputs": [],
   "source": [
    "# Quick plot for a check.\n",
    "fig_hand = go.Figure()\n",
    "mf.my_viz(fig_hand, sht_hand, 'markers')"
   ]
  },
  {
   "cell_type": "markdown",
   "metadata": {},
   "source": [
    "Drop zero values.\n",
    "Per Lam, these mark 'dry' measurements. However, the other measurements  were converted to elevation (not stage) so zeroes are distracting."
   ]
  },
  {
   "cell_type": "code",
   "execution_count": null,
   "metadata": {},
   "outputs": [],
   "source": [
    "hand_no_zeroes = sht_hand.copy()\n",
    "hand_no_zeroes.replace(0, np.nan, inplace=True)\n",
    "\n",
    "# Expect to see 0 new NaN values\n",
    "print(\"The number of NaNs in the original dataframe: \", sht_hand.isnull().sum().sum())\n",
    "print(\"The number of NaNs in the converted dataframe: \", hand_no_zeroes.isnull().sum().sum() )"
   ]
  },
  {
   "cell_type": "code",
   "execution_count": null,
   "metadata": {},
   "outputs": [],
   "source": [
    "# Check the visualization for change.\n",
    "fig_hand2 = go.Figure()\n",
    "mf.my_viz(fig_hand2, hand_no_zeroes, 'markers')"
   ]
  },
  {
   "cell_type": "markdown",
   "metadata": {},
   "source": [
    "Export the hand data"
   ]
  },
  {
   "cell_type": "code",
   "execution_count": null,
   "metadata": {},
   "outputs": [],
   "source": [
    "# Export hand dataframe.\n",
    "export_file = output_path / 'hand_from_ProjectSite_WaterLevels.csv'\n",
    "hand_no_zeroes.to_csv(export_file)"
   ]
  },
  {
   "cell_type": "markdown",
   "metadata": {},
   "source": [
    "## Examine the logger data"
   ]
  },
  {
   "cell_type": "code",
   "execution_count": null,
   "metadata": {},
   "outputs": [],
   "source": [
    "# Preview data.\n",
    "sht_logger.head()"
   ]
  },
  {
   "cell_type": "code",
   "execution_count": null,
   "metadata": {},
   "outputs": [],
   "source": [
    "# Round up to 2 decimal places.\n",
    "sht_logger = sht_logger.round(2)\n",
    "\n",
    "# Preview data.\n",
    "sht_logger.head()"
   ]
  },
  {
   "cell_type": "code",
   "execution_count": null,
   "metadata": {},
   "outputs": [],
   "source": [
    "# Quick plot for a check.\n",
    "fig_logger = go.Figure()\n",
    "mf.my_viz(fig_logger, sht_logger, 'lines')"
   ]
  },
  {
   "cell_type": "markdown",
   "metadata": {},
   "source": [
    "Export the logger data"
   ]
  },
  {
   "cell_type": "code",
   "execution_count": null,
   "metadata": {},
   "outputs": [],
   "source": [
    "# Export loggers dataframe.\n",
    "export_file = output_path / 'loggers_from_ProjectSite_WaterLevels.csv'\n",
    "sht_logger.to_csv(export_file)"
   ]
  }
 ],
 "metadata": {
  "kernelspec": {
   "display_name": "TenTrailsWaterLevels-i7Q0mKvk",
   "language": "python",
   "name": "python3"
  },
  "language_info": {
   "codemirror_mode": {
    "name": "ipython",
    "version": 3
   },
   "file_extension": ".py",
   "mimetype": "text/x-python",
   "name": "python",
   "nbconvert_exporter": "python",
   "pygments_lexer": "ipython3",
   "version": "3.11.5"
  }
 },
 "nbformat": 4,
 "nbformat_minor": 2
}
