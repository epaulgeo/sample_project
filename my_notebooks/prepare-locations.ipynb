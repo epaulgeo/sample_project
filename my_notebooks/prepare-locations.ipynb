{
 "cells": [
  {
   "cell_type": "code",
   "execution_count": null,
   "metadata": {},
   "outputs": [],
   "source": [
    "# Import data prep libraries\n",
    "import pandas as pd\n",
    "from pathlib import Path"
   ]
  },
  {
   "cell_type": "markdown",
   "metadata": {},
   "source": [
    "## Get the data"
   ]
  },
  {
   "cell_type": "code",
   "execution_count": null,
   "metadata": {},
   "outputs": [],
   "source": [
    "# Get the current directory.\n",
    "notebook_directory = Path.cwd()\n",
    "\n",
    "# Define relative paths for in/ouputs.\n",
    "input_path = notebook_directory.parent / \"my_data_source\"\n",
    "output_path = notebook_directory.parent / \"my_data_intermediate\"\n",
    "\n",
    "# Join script directory and relative paths for input file.\n",
    "file = input_path / (\"ProjectSite_WaterLevels.xlsx\")\n",
    "\n",
    "# Read file into dataframe.\n",
    "well_locations = pd.read_excel(file, sheet_name=\"Locations Python\")"
   ]
  },
  {
   "cell_type": "markdown",
   "metadata": {},
   "source": [
    "## Preview the data"
   ]
  },
  {
   "cell_type": "code",
   "execution_count": null,
   "metadata": {},
   "outputs": [],
   "source": [
    "# Preview file.\n",
    "well_locations.head()"
   ]
  },
  {
   "cell_type": "markdown",
   "metadata": {},
   "source": [
    "## Pass locations dataframe to the intermediate file"
   ]
  },
  {
   "cell_type": "code",
   "execution_count": null,
   "metadata": {},
   "outputs": [],
   "source": [
    "# Export dataframe.\n",
    "export_file = output_path / \"locations.csv\"\n",
    "well_locations.to_csv(export_file)"
   ]
  }
 ],
 "metadata": {
  "kernelspec": {
   "display_name": "TenTrailsWaterLevels-i7Q0mKvk",
   "language": "python",
   "name": "python3"
  },
  "language_info": {
   "codemirror_mode": {
    "name": "ipython",
    "version": 3
   },
   "file_extension": ".py",
   "mimetype": "text/x-python",
   "name": "python",
   "nbconvert_exporter": "python",
   "pygments_lexer": "ipython3",
   "version": "3.11.5"
  }
 },
 "nbformat": 4,
 "nbformat_minor": 2
}
